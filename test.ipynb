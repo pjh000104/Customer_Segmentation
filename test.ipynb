{
 "cells": [
  {
   "cell_type": "code",
   "id": "initial_id",
   "metadata": {
    "collapsed": true,
    "ExecuteTime": {
     "end_time": "2024-11-14T01:57:08.501149Z",
     "start_time": "2024-11-14T01:56:13.448090Z"
    }
   },
   "source": [
    "# Load the CSV file\n",
    "import pandas as pd\n",
    "\n",
    "# Load the CSV file with a specified encoding\n",
    "df = pd.read_excel('Online_Retail.xlsx', sheet_name='Online Retail')\n",
    "\n",
    "# Display the first few rows to confirm it loaded correctly\n",
    "# df.head()\n"
   ],
   "outputs": [],
   "execution_count": 36
  },
  {
   "metadata": {
    "ExecuteTime": {
     "end_time": "2024-11-14T01:57:08.525007Z",
     "start_time": "2024-11-14T01:57:08.512429Z"
    }
   },
   "cell_type": "code",
   "source": "df",
   "id": "5ce77bbd695c7631",
   "outputs": [
    {
     "data": {
      "text/plain": [
       "       InvoiceNo StockCode                          Description  Quantity  \\\n",
       "0         536365    85123A   WHITE HANGING HEART T-LIGHT HOLDER         6   \n",
       "1         536365     71053                  WHITE METAL LANTERN         6   \n",
       "2         536365    84406B       CREAM CUPID HEARTS COAT HANGER         8   \n",
       "3         536365    84029G  KNITTED UNION FLAG HOT WATER BOTTLE         6   \n",
       "4         536365    84029E       RED WOOLLY HOTTIE WHITE HEART.         6   \n",
       "...          ...       ...                                  ...       ...   \n",
       "541904    581587     22613          PACK OF 20 SPACEBOY NAPKINS        12   \n",
       "541905    581587     22899         CHILDREN'S APRON DOLLY GIRL          6   \n",
       "541906    581587     23254        CHILDRENS CUTLERY DOLLY GIRL          4   \n",
       "541907    581587     23255      CHILDRENS CUTLERY CIRCUS PARADE         4   \n",
       "541908    581587     22138        BAKING SET 9 PIECE RETROSPOT          3   \n",
       "\n",
       "               InvoiceDate  UnitPrice  TotalPrice  CustomerID         Country  \n",
       "0      2010-12-01 08:26:00       2.55       15.30     17850.0  United Kingdom  \n",
       "1      2010-12-01 08:26:00       3.39       20.34     17850.0  United Kingdom  \n",
       "2      2010-12-01 08:26:00       2.75       22.00     17850.0  United Kingdom  \n",
       "3      2010-12-01 08:26:00       3.39       20.34     17850.0  United Kingdom  \n",
       "4      2010-12-01 08:26:00       3.39       20.34     17850.0  United Kingdom  \n",
       "...                    ...        ...         ...         ...             ...  \n",
       "541904 2011-12-09 12:50:00       0.85       10.20     12680.0          France  \n",
       "541905 2011-12-09 12:50:00       2.10       12.60     12680.0          France  \n",
       "541906 2011-12-09 12:50:00       4.15       16.60     12680.0          France  \n",
       "541907 2011-12-09 12:50:00       4.15       16.60     12680.0          France  \n",
       "541908 2011-12-09 12:50:00       4.95       14.85     12680.0          France  \n",
       "\n",
       "[541909 rows x 9 columns]"
      ],
      "text/html": [
       "<div>\n",
       "<style scoped>\n",
       "    .dataframe tbody tr th:only-of-type {\n",
       "        vertical-align: middle;\n",
       "    }\n",
       "\n",
       "    .dataframe tbody tr th {\n",
       "        vertical-align: top;\n",
       "    }\n",
       "\n",
       "    .dataframe thead th {\n",
       "        text-align: right;\n",
       "    }\n",
       "</style>\n",
       "<table border=\"1\" class=\"dataframe\">\n",
       "  <thead>\n",
       "    <tr style=\"text-align: right;\">\n",
       "      <th></th>\n",
       "      <th>InvoiceNo</th>\n",
       "      <th>StockCode</th>\n",
       "      <th>Description</th>\n",
       "      <th>Quantity</th>\n",
       "      <th>InvoiceDate</th>\n",
       "      <th>UnitPrice</th>\n",
       "      <th>TotalPrice</th>\n",
       "      <th>CustomerID</th>\n",
       "      <th>Country</th>\n",
       "    </tr>\n",
       "  </thead>\n",
       "  <tbody>\n",
       "    <tr>\n",
       "      <th>0</th>\n",
       "      <td>536365</td>\n",
       "      <td>85123A</td>\n",
       "      <td>WHITE HANGING HEART T-LIGHT HOLDER</td>\n",
       "      <td>6</td>\n",
       "      <td>2010-12-01 08:26:00</td>\n",
       "      <td>2.55</td>\n",
       "      <td>15.30</td>\n",
       "      <td>17850.0</td>\n",
       "      <td>United Kingdom</td>\n",
       "    </tr>\n",
       "    <tr>\n",
       "      <th>1</th>\n",
       "      <td>536365</td>\n",
       "      <td>71053</td>\n",
       "      <td>WHITE METAL LANTERN</td>\n",
       "      <td>6</td>\n",
       "      <td>2010-12-01 08:26:00</td>\n",
       "      <td>3.39</td>\n",
       "      <td>20.34</td>\n",
       "      <td>17850.0</td>\n",
       "      <td>United Kingdom</td>\n",
       "    </tr>\n",
       "    <tr>\n",
       "      <th>2</th>\n",
       "      <td>536365</td>\n",
       "      <td>84406B</td>\n",
       "      <td>CREAM CUPID HEARTS COAT HANGER</td>\n",
       "      <td>8</td>\n",
       "      <td>2010-12-01 08:26:00</td>\n",
       "      <td>2.75</td>\n",
       "      <td>22.00</td>\n",
       "      <td>17850.0</td>\n",
       "      <td>United Kingdom</td>\n",
       "    </tr>\n",
       "    <tr>\n",
       "      <th>3</th>\n",
       "      <td>536365</td>\n",
       "      <td>84029G</td>\n",
       "      <td>KNITTED UNION FLAG HOT WATER BOTTLE</td>\n",
       "      <td>6</td>\n",
       "      <td>2010-12-01 08:26:00</td>\n",
       "      <td>3.39</td>\n",
       "      <td>20.34</td>\n",
       "      <td>17850.0</td>\n",
       "      <td>United Kingdom</td>\n",
       "    </tr>\n",
       "    <tr>\n",
       "      <th>4</th>\n",
       "      <td>536365</td>\n",
       "      <td>84029E</td>\n",
       "      <td>RED WOOLLY HOTTIE WHITE HEART.</td>\n",
       "      <td>6</td>\n",
       "      <td>2010-12-01 08:26:00</td>\n",
       "      <td>3.39</td>\n",
       "      <td>20.34</td>\n",
       "      <td>17850.0</td>\n",
       "      <td>United Kingdom</td>\n",
       "    </tr>\n",
       "    <tr>\n",
       "      <th>...</th>\n",
       "      <td>...</td>\n",
       "      <td>...</td>\n",
       "      <td>...</td>\n",
       "      <td>...</td>\n",
       "      <td>...</td>\n",
       "      <td>...</td>\n",
       "      <td>...</td>\n",
       "      <td>...</td>\n",
       "      <td>...</td>\n",
       "    </tr>\n",
       "    <tr>\n",
       "      <th>541904</th>\n",
       "      <td>581587</td>\n",
       "      <td>22613</td>\n",
       "      <td>PACK OF 20 SPACEBOY NAPKINS</td>\n",
       "      <td>12</td>\n",
       "      <td>2011-12-09 12:50:00</td>\n",
       "      <td>0.85</td>\n",
       "      <td>10.20</td>\n",
       "      <td>12680.0</td>\n",
       "      <td>France</td>\n",
       "    </tr>\n",
       "    <tr>\n",
       "      <th>541905</th>\n",
       "      <td>581587</td>\n",
       "      <td>22899</td>\n",
       "      <td>CHILDREN'S APRON DOLLY GIRL</td>\n",
       "      <td>6</td>\n",
       "      <td>2011-12-09 12:50:00</td>\n",
       "      <td>2.10</td>\n",
       "      <td>12.60</td>\n",
       "      <td>12680.0</td>\n",
       "      <td>France</td>\n",
       "    </tr>\n",
       "    <tr>\n",
       "      <th>541906</th>\n",
       "      <td>581587</td>\n",
       "      <td>23254</td>\n",
       "      <td>CHILDRENS CUTLERY DOLLY GIRL</td>\n",
       "      <td>4</td>\n",
       "      <td>2011-12-09 12:50:00</td>\n",
       "      <td>4.15</td>\n",
       "      <td>16.60</td>\n",
       "      <td>12680.0</td>\n",
       "      <td>France</td>\n",
       "    </tr>\n",
       "    <tr>\n",
       "      <th>541907</th>\n",
       "      <td>581587</td>\n",
       "      <td>23255</td>\n",
       "      <td>CHILDRENS CUTLERY CIRCUS PARADE</td>\n",
       "      <td>4</td>\n",
       "      <td>2011-12-09 12:50:00</td>\n",
       "      <td>4.15</td>\n",
       "      <td>16.60</td>\n",
       "      <td>12680.0</td>\n",
       "      <td>France</td>\n",
       "    </tr>\n",
       "    <tr>\n",
       "      <th>541908</th>\n",
       "      <td>581587</td>\n",
       "      <td>22138</td>\n",
       "      <td>BAKING SET 9 PIECE RETROSPOT</td>\n",
       "      <td>3</td>\n",
       "      <td>2011-12-09 12:50:00</td>\n",
       "      <td>4.95</td>\n",
       "      <td>14.85</td>\n",
       "      <td>12680.0</td>\n",
       "      <td>France</td>\n",
       "    </tr>\n",
       "  </tbody>\n",
       "</table>\n",
       "<p>541909 rows × 9 columns</p>\n",
       "</div>"
      ]
     },
     "execution_count": 37,
     "metadata": {},
     "output_type": "execute_result"
    }
   ],
   "execution_count": 37
  },
  {
   "metadata": {
    "ExecuteTime": {
     "end_time": "2024-11-14T01:59:39.667370Z",
     "start_time": "2024-11-14T01:59:39.639322Z"
    }
   },
   "cell_type": "code",
   "source": [
    "# Select only the numeric columns\n",
    "# Create a copy of the subset and then fill missing values\n",
    "df_numeric = df[['Quantity', 'UnitPrice', 'TotalPrice']].copy()\n",
    "\n",
    "# Now fill missing values with the column mean\n",
    "df_numeric.fillna(df_numeric.mean(), inplace=True)\n",
    "\n",
    "\n",
    "# Inspect the data to ensure it looks correct\n",
    "print(df_numeric.head())\n",
    "\n"
   ],
   "id": "fe72872f1f1c6a1a",
   "outputs": [
    {
     "name": "stdout",
     "output_type": "stream",
     "text": [
      "   Quantity  UnitPrice  TotalPrice\n",
      "0         6       2.55       15.30\n",
      "1         6       3.39       20.34\n",
      "2         8       2.75       22.00\n",
      "3         6       3.39       20.34\n",
      "4         6       3.39       20.34\n"
     ]
    }
   ],
   "execution_count": 46
  },
  {
   "metadata": {
    "ExecuteTime": {
     "end_time": "2024-11-14T01:59:42.348527Z",
     "start_time": "2024-11-14T01:59:42.331346Z"
    }
   },
   "cell_type": "code",
   "source": [
    "# Fill missing values with the column mean (or choose another strategy)\n",
    "# Fill missing values with the column mean (if there are any)\n",
    "df_numeric.fillna(df_numeric.mean(), inplace=True)\n"
   ],
   "id": "252203f4b247ed6d",
   "outputs": [],
   "execution_count": 47
  },
  {
   "metadata": {
    "ExecuteTime": {
     "end_time": "2024-11-14T02:00:34.095698Z",
     "start_time": "2024-11-14T02:00:34.053700Z"
    }
   },
   "cell_type": "code",
   "source": [
    "from sklearn.preprocessing import StandardScaler\n",
    "\n",
    "# Standardize the numeric data\n",
    "scaler = StandardScaler()\n",
    "scaled_data = scaler.fit_transform(df_numeric)\n",
    "\n",
    "# Optionally, check the standardized data\n",
    "print(scaled_data[:5])  # Display the first few rows of scaled data\n",
    "\n"
   ],
   "id": "30d8810a3c20b982",
   "outputs": [
    {
     "name": "stdout",
     "output_type": "stream",
     "text": [
      "[[-0.01628867 -0.02130135 -0.00709536]\n",
      " [-0.01628867 -0.01262006  0.00620945]\n",
      " [-0.00711777 -0.01923438  0.01059159]\n",
      " [-0.01628867 -0.01262006  0.00620945]\n",
      " [-0.01628867 -0.01262006  0.00620945]]\n"
     ]
    }
   ],
   "execution_count": 53
  },
  {
   "metadata": {
    "ExecuteTime": {
     "end_time": "2024-11-14T02:00:32.443649Z",
     "start_time": "2024-11-14T02:00:32.420591Z"
    }
   },
   "cell_type": "code",
   "source": [
    "from sklearn.decomposition import PCA\n",
    "\n",
    "# Apply PCA to retain 95% of the variance\n",
    "pca = PCA(n_components=0.95)\n",
    "pca_data = pca.fit_transform(scaled_data)\n",
    "\n",
    "# Convert the PCA output into a DataFrame for easier interpretation\n",
    "pca_df = pd.DataFrame(pca_data, columns=[f'PC{i+1}' for i in range(pca_data.shape[1])])\n"
   ],
   "id": "da4e9bf05d2db879",
   "outputs": [],
   "execution_count": 52
  },
  {
   "metadata": {
    "ExecuteTime": {
     "end_time": "2024-11-14T02:00:30.442137Z",
     "start_time": "2024-11-14T02:00:30.434367Z"
    }
   },
   "cell_type": "code",
   "source": [
    "# Display the PCA-transformed data\n",
    "print(pca_df)\n",
    "\n",
    "# Print the explained variance ratio for each principal component\n",
    "print(\"Explained variance ratio:\", pca.explained_variance_ratio_)\n",
    "print(\"Total variance explained:\", sum(pca.explained_variance_ratio_))\n"
   ],
   "id": "ba1c95fbff92a8f7",
   "outputs": [
    {
     "name": "stdout",
     "output_type": "stream",
     "text": [
      "             PC1       PC2\n",
      "0      -0.013619 -0.023891\n",
      "1      -0.005323 -0.015335\n",
      "2       0.005000 -0.020187\n",
      "3      -0.005323 -0.015335\n",
      "4      -0.005323 -0.015335\n",
      "...          ...       ...\n",
      "541904 -0.001753 -0.036246\n",
      "541905 -0.018063 -0.028476\n",
      "541906 -0.019688 -0.009269\n",
      "541907 -0.019688 -0.009269\n",
      "541908 -0.027201 -0.001966\n",
      "\n",
      "[541909 rows x 2 columns]\n",
      "Explained variance ratio: [0.63386097 0.33318775]\n",
      "Total variance explained: 0.9670487169286273\n"
     ]
    }
   ],
   "execution_count": 51
  }
 ],
 "metadata": {
  "kernelspec": {
   "display_name": "Python 3",
   "language": "python",
   "name": "python3"
  },
  "language_info": {
   "codemirror_mode": {
    "name": "ipython",
    "version": 2
   },
   "file_extension": ".py",
   "mimetype": "text/x-python",
   "name": "python",
   "nbconvert_exporter": "python",
   "pygments_lexer": "ipython2",
   "version": "2.7.6"
  }
 },
 "nbformat": 4,
 "nbformat_minor": 5
}
